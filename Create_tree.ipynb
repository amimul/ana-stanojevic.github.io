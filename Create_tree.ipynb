{
 "cells": [
  {
   "cell_type": "code",
   "execution_count": 341,
   "metadata": {},
   "outputs": [],
   "source": [
    "import pandas as pd\n",
    "import numpy as np\n",
    "import operator\n",
    "from scipy.spatial.distance import euclidean"
   ]
  },
  {
   "cell_type": "code",
   "execution_count": 342,
   "metadata": {},
   "outputs": [],
   "source": [
    "def remove_small_probabilities(df, threashold = 0.00055):\n",
    "    return df[df['probability']>threashold]\n",
    "\n",
    "def assign_square(df, square_size):\n",
    "    df['square_lat'] = (df['lat']/10).astype(int)*10\n",
    "    df['square_lng'] = (df['lng']/10).astype(int)*10\n",
    "    return df\n",
    "\n",
    "def calc_square_representative(df):\n",
    "    representative = {}\n",
    "    grouped = df.groupby(['square_lat', 'square_lng'])\n",
    "    for g in grouped.groups: representative[g]=np.mean(grouped.get_group(g)['probability'])\n",
    "    return representative"
   ]
  },
  {
   "cell_type": "code",
   "execution_count": 343,
   "metadata": {},
   "outputs": [],
   "source": [
    "spreading_df = pd.read_csv('spreading.csv')\n",
    "#if spreading_df['lng'][(spreading_df['lng']>200) & (spreading_df['lng']<300)].any(): print(True)"
   ]
  },
  {
   "cell_type": "code",
   "execution_count": 344,
   "metadata": {},
   "outputs": [],
   "source": [
    "spreading_df = pd.read_csv('spreading.csv')\n",
    "start = spreading_df.loc[0]\n",
    "spreading_df.drop(0, axis=0, inplace=True)\n",
    "spreading_df = remove_small_probabilities(spreading_df)\n",
    "#normalize lat and lng\n",
    "lat_dom = min(spreading_df['lat'])\n",
    "lng_dom = min(spreading_df['lng'])\n",
    "spreading_df['lat'] = spreading_df['lat']-min(spreading_df['lat'])\n",
    "spreading_df['lng'] = spreading_df['lng']-min(spreading_df['lng'])\n",
    "#maping years from 10 to 5\n",
    "spreading_df = spreading_df[spreading_df['year']<10]\n",
    "spreading_df['year'] = ((spreading_df['year']+2)/2).astype(int)-1"
   ]
  },
  {
   "cell_type": "code",
   "execution_count": 345,
   "metadata": {},
   "outputs": [],
   "source": [
    "#calculate for each data point its square, and probability of its square \n",
    "SQUARE_SIZE= 10\n",
    "spreading_df = assign_square(spreading_df, SQUARE_SIZE)\n",
    "square_prob= calc_square_representative(spreading_df)\n",
    "def map_prob_sqr(sqr_lat, sqr_lng):\n",
    "    return square_prob[(sqr_lat, sqr_lng)]\n",
    "spreading_df['square_prob'] = np.vectorize(map_prob_sqr)(spreading_df['square_lat'], spreading_df['square_lng'])"
   ]
  },
  {
   "cell_type": "code",
   "execution_count": 346,
   "metadata": {
    "collapsed": true
   },
   "outputs": [],
   "source": [
    "def get_closest_start(point, level_points):\n",
    "    min_dist = 100000\n",
    "    for node in level_points:\n",
    "        if euclidean(np.array(node), np.array(point)) <min_dist:\n",
    "            min_node = node\n",
    "            min_dist = euclidean(np.array(node), np.array(point))\n",
    "    return min_node"
   ]
  },
  {
   "cell_type": "code",
   "execution_count": 347,
   "metadata": {},
   "outputs": [],
   "source": [
    "CHILD_THRESHOLD = 0.001\n",
    "grouped_years = spreading_df.groupby(['year', 'square_lat', 'square_lng'])\n",
    "tree = {(start['lat'], start['lng']): []}\n",
    "levels =[[]]*6\n",
    "levels[0] = [(start['lat'], start['lng'])]\n",
    "spreading_df = pd.DataFrame(grouped_years.sum())\n",
    "for g in grouped_years.groups:\n",
    "    if (g[1], g[2]) in tree.keys(): continue\n",
    "    if grouped_years.get_group(g)['probability'].any() >=CHILD_THRESHOLD: \n",
    "        g = list(g)\n",
    "        g[1]+=lat_dom+5\n",
    "        g[2]+=lng_dom+5\n",
    "        parent = get_closest_start((g[1],g[2]),levels[g[0]])\n",
    "        levels[g[0]+1].append((g[1], g[2]))\n",
    "        #print(g, parent)\n",
    "        tree[parent].append((g[1],g[2]))\n",
    "        tree[(g[1],g[2])] = []\n",
    "        "
   ]
  },
  {
   "cell_type": "code",
   "execution_count": 348,
   "metadata": {},
   "outputs": [
    {
     "data": {
      "text/plain": [
       "{(-37, 24): [],\n",
       " (-37, 34): [],\n",
       " (-37, 44): [],\n",
       " (-37, 54): [],\n",
       " (-37, 64): [],\n",
       " (-37, 74): [],\n",
       " (-37, 84): [],\n",
       " (-37, 94): [],\n",
       " (-37, 134): [],\n",
       " (-37, 144): [],\n",
       " (-37, 334): [(-27, 324)],\n",
       " (-37, 344): [(-37, 354)],\n",
       " (-37, 354): [],\n",
       " (-27, 34): [],\n",
       " (-27, 44): [],\n",
       " (-27, 54): [],\n",
       " (-27, 64): [],\n",
       " (-27, 74): [],\n",
       " (-27, 84): [],\n",
       " (-27, 94): [],\n",
       " (-27, 324): [],\n",
       " (-27, 334): [],\n",
       " (-27, 344): [(-27, 354)],\n",
       " (-27, 354): [],\n",
       " (-17, 34): [],\n",
       " (-17, 44): [],\n",
       " (-17, 54): [],\n",
       " (-17, 64): [],\n",
       " (-17, 74): [],\n",
       " (-17, 84): [],\n",
       " (-17, 94): [],\n",
       " (-17, 104): [],\n",
       " (-11.0, 43.0): [(-37, 24),\n",
       "  (-37, 34),\n",
       "  (-27, 34),\n",
       "  (-27, 44),\n",
       "  (-27, 94),\n",
       "  (-17, 34),\n",
       "  (-17, 44),\n",
       "  (-17, 54),\n",
       "  (-17, 64),\n",
       "  (-17, 74),\n",
       "  (-17, 84),\n",
       "  (-17, 94),\n",
       "  (-17, 104),\n",
       "  (-7, 34),\n",
       "  (-7, 44),\n",
       "  (-7, 54),\n",
       "  (-7, 64),\n",
       "  (-7, 74),\n",
       "  (-7, 84),\n",
       "  (-7, 94),\n",
       "  (-7, 104),\n",
       "  (-7, 114),\n",
       "  (3, 44),\n",
       "  (3, 54),\n",
       "  (3, 64),\n",
       "  (3, 74),\n",
       "  (3, 84),\n",
       "  (3, 94),\n",
       "  (13, 44),\n",
       "  (13, 54),\n",
       "  (13, 64),\n",
       "  (13, 74),\n",
       "  (13, 84),\n",
       "  (13, 94),\n",
       "  (23, 54),\n",
       "  (23, 64),\n",
       "  (23, 74),\n",
       "  (23, 94)],\n",
       " (-7, 34): [],\n",
       " (-7, 44): [],\n",
       " (-7, 54): [],\n",
       " (-7, 64): [],\n",
       " (-7, 74): [],\n",
       " (-7, 84): [],\n",
       " (-7, 94): [],\n",
       " (-7, 104): [],\n",
       " (-7, 114): [],\n",
       " (3, 44): [],\n",
       " (3, 54): [],\n",
       " (3, 64): [],\n",
       " (3, 74): [],\n",
       " (3, 84): [],\n",
       " (3, 94): [],\n",
       " (3, 104): [],\n",
       " (13, 44): [],\n",
       " (13, 54): [],\n",
       " (13, 64): [],\n",
       " (13, 74): [],\n",
       " (13, 84): [],\n",
       " (13, 94): [],\n",
       " (23, 54): [],\n",
       " (23, 64): [],\n",
       " (23, 74): [],\n",
       " (23, 84): [],\n",
       " (23, 94): []}"
      ]
     },
     "execution_count": 348,
     "metadata": {},
     "output_type": "execute_result"
    }
   ],
   "source": [
    "tree"
   ]
  },
  {
   "cell_type": "code",
   "execution_count": null,
   "metadata": {
    "collapsed": true
   },
   "outputs": [],
   "source": []
  }
 ],
 "metadata": {
  "kernelspec": {
   "display_name": "Python 3",
   "language": "python",
   "name": "python3"
  },
  "language_info": {
   "codemirror_mode": {
    "name": "ipython",
    "version": 3
   },
   "file_extension": ".py",
   "mimetype": "text/x-python",
   "name": "python",
   "nbconvert_exporter": "python",
   "pygments_lexer": "ipython3",
   "version": "3.6.2"
  }
 },
 "nbformat": 4,
 "nbformat_minor": 2
}
